{
  "nbformat": 4,
  "nbformat_minor": 0,
  "metadata": {
    "colab": {
      "name": "2020 Version of Applications of Deep Neural Network.ipynb",
      "provenance": [],
      "collapsed_sections": [],
      "authorship_tag": "ABX9TyPy+X1AZFaV16xz3Jr/lzNp",
      "include_colab_link": true
    },
    "kernelspec": {
      "name": "python3",
      "display_name": "Python 3"
    }
  },
  "cells": [
    {
      "cell_type": "markdown",
      "metadata": {
        "id": "view-in-github",
        "colab_type": "text"
      },
      "source": [
        "<a href=\"https://colab.research.google.com/github/Childish1jin/DL_Study/blob/master/2020_Version_of_Applications_of_Deep_Neural_Network.ipynb\" target=\"_parent\"><img src=\"https://colab.research.google.com/assets/colab-badge.svg\" alt=\"Open In Colab\"/></a>"
      ]
    },
    {
      "cell_type": "markdown",
      "metadata": {
        "id": "t9MVtkXevR3w",
        "colab_type": "text"
      },
      "source": [
        "# [f-string](https://realpython.com/python-f-strings/)"
      ]
    },
    {
      "cell_type": "markdown",
      "metadata": {
        "id": "byZMQPQGv6Cf",
        "colab_type": "text"
      },
      "source": [
        "## Option #1: %-formatting"
      ]
    },
    {
      "cell_type": "code",
      "metadata": {
        "id": "61WpIGDtvWn6",
        "colab_type": "code",
        "colab": {
          "base_uri": "https://localhost:8080/",
          "height": 35
        },
        "outputId": "d4c7e794-df74-4963-d579-fd3ee59d0014"
      },
      "source": [
        "name = \"Eric\"\n",
        "age = 74\n",
        "print(\"Hello, %s. You are %s.\" % (name, age))"
      ],
      "execution_count": 5,
      "outputs": [
        {
          "output_type": "stream",
          "text": [
            "Hello, Eric. You are 74.\n"
          ],
          "name": "stdout"
        }
      ]
    },
    {
      "cell_type": "code",
      "metadata": {
        "id": "3ynzMx14vezJ",
        "colab_type": "code",
        "colab": {
          "base_uri": "https://localhost:8080/",
          "height": 35
        },
        "outputId": "3b8a2c35-ba51-40d9-fe4c-78a89353fd62"
      },
      "source": [
        "first_name = \"Eric\"\n",
        "last_name = \"Idle\"\n",
        "age = 74\n",
        "profession = \"comedian\"\n",
        "affiliation = \"Monty Python\"\n",
        "print(\"Hello, %s %s. You are %s. You are a %s. You were a member of %s.\" % (first_name, last_name, age, profession, affiliation))"
      ],
      "execution_count": 2,
      "outputs": [
        {
          "output_type": "stream",
          "text": [
            "Hello, Eric Idle. You are 74. You are a comedian. You were a member of Monty Python.\n"
          ],
          "name": "stdout"
        }
      ]
    },
    {
      "cell_type": "code",
      "metadata": {
        "id": "5vqEBBr1vq3W",
        "colab_type": "code",
        "colab": {
          "base_uri": "https://localhost:8080/",
          "height": 35
        },
        "outputId": "298cd96a-683d-477a-9454-ce65c89d4dd4"
      },
      "source": [
        "print('Hello %s. You are %s.' % (name,age))"
      ],
      "execution_count": 4,
      "outputs": [
        {
          "output_type": "stream",
          "text": [
            "Hello Eric. You are 74.\n"
          ],
          "name": "stdout"
        }
      ]
    },
    {
      "cell_type": "markdown",
      "metadata": {
        "id": "C04PhB7dv40d",
        "colab_type": "text"
      },
      "source": [
        "## Option #2: str.format()"
      ]
    },
    {
      "cell_type": "code",
      "metadata": {
        "id": "Ttex5cIcwJgB",
        "colab_type": "code",
        "colab": {
          "base_uri": "https://localhost:8080/",
          "height": 35
        },
        "outputId": "53667b7b-f299-43a6-c664-8b49976de9dc"
      },
      "source": [
        "print(\"Hello, {}. You are {}.\".format(name, age))"
      ],
      "execution_count": 6,
      "outputs": [
        {
          "output_type": "stream",
          "text": [
            "Hello, Eric. You are 74.\n"
          ],
          "name": "stdout"
        }
      ]
    },
    {
      "cell_type": "code",
      "metadata": {
        "id": "qITW5XZzwZL2",
        "colab_type": "code",
        "colab": {
          "base_uri": "https://localhost:8080/",
          "height": 35
        },
        "outputId": "a869c0e1-c5dc-4bdb-c646-16cef291266b"
      },
      "source": [
        "print(\"Hello, {1}. You are {0}.\".format(age, name))"
      ],
      "execution_count": 7,
      "outputs": [
        {
          "output_type": "stream",
          "text": [
            "Hello, Eric. You are 74.\n"
          ],
          "name": "stdout"
        }
      ]
    },
    {
      "cell_type": "code",
      "metadata": {
        "id": "dfgWlwWEwe7m",
        "colab_type": "code",
        "colab": {
          "base_uri": "https://localhost:8080/",
          "height": 35
        },
        "outputId": "4bf98a6a-e686-488b-f0db-9992d7a367a3"
      },
      "source": [
        "person = {'name': 'Eric', 'age': 74}\n",
        "print(\"Hello, {name}. You are {age}.\".format(**person))"
      ],
      "execution_count": 8,
      "outputs": [
        {
          "output_type": "stream",
          "text": [
            "Hello, Eric. You are 74.\n"
          ],
          "name": "stdout"
        }
      ]
    },
    {
      "cell_type": "code",
      "metadata": {
        "id": "45kZ_tTdwlBc",
        "colab_type": "code",
        "colab": {
          "base_uri": "https://localhost:8080/",
          "height": 35
        },
        "outputId": "ebe44c28-2798-43e2-8406-be759c0a594a"
      },
      "source": [
        "first_name = \"Eric\"\n",
        "last_name = \"Idle\"\n",
        "age = 74\n",
        "profession = \"comedian\"\n",
        "affiliation = \"Monty Python\"\n",
        "print((\"Hello, {first_name} {last_name}. You are {age}. \" + \n",
        "       \"You are a {profession}. You were a member of {affiliation}.\") \\\n",
        "       .format(first_name=first_name, last_name=last_name, age=age, \\\n",
        "               profession=profession, affiliation=affiliation))"
      ],
      "execution_count": 9,
      "outputs": [
        {
          "output_type": "stream",
          "text": [
            "Hello, Eric Idle. You are 74. You are a comedian. You were a member of Monty Python.\n"
          ],
          "name": "stdout"
        }
      ]
    },
    {
      "cell_type": "code",
      "metadata": {
        "id": "jg0OSywZwrEn",
        "colab_type": "code",
        "colab": {
          "base_uri": "https://localhost:8080/",
          "height": 35
        },
        "outputId": "b17980c1-3991-4dff-fee4-859d119f31e1"
      },
      "source": [
        "print(('hello {first_name} {last_name}. You are {age} and you are a {profession}. You were a member of {affiliation}.')\n",
        ".format(first_name=first_name, last_name=last_name, age=age, \n",
        "               profession=profession, affiliation=affiliation))"
      ],
      "execution_count": 15,
      "outputs": [
        {
          "output_type": "stream",
          "text": [
            "hello Eric Idle. You are 74 and you are a comedian. You were a member of Monty Python.\n"
          ],
          "name": "stdout"
        }
      ]
    },
    {
      "cell_type": "code",
      "metadata": {
        "id": "sJt8itzExTks",
        "colab_type": "code",
        "colab": {
          "base_uri": "https://localhost:8080/",
          "height": 35
        },
        "outputId": "2d7fb310-bdf2-4b72-bff3-6abb25d16a76"
      },
      "source": [
        "def to_lowercase(input):\n",
        "    return input.lower()\n",
        "  \n",
        "name = 'Eric Idle'\n",
        "\n",
        "print(f'{to_lowercase(name)}')"
      ],
      "execution_count": 17,
      "outputs": [
        {
          "output_type": "stream",
          "text": [
            "eric idle\n"
          ],
          "name": "stdout"
        }
      ]
    },
    {
      "cell_type": "code",
      "metadata": {
        "id": "_71bmzlpKGxD",
        "colab_type": "code",
        "colab": {}
      },
      "source": [
        ""
      ],
      "execution_count": 0,
      "outputs": []
    },
    {
      "cell_type": "code",
      "metadata": {
        "id": "mZ2IiBUAMHLu",
        "colab_type": "code",
        "colab": {
          "base_uri": "https://localhost:8080/",
          "height": 35
        },
        "outputId": "a376ea30-df98-49a4-b802-789a1696ace5"
      },
      "source": [
        "d = {'name': 'jell', 'address': '123 site'}\n",
        "\n",
        "print(f'Key: {d.keys()}')"
      ],
      "execution_count": 18,
      "outputs": [
        {
          "output_type": "stream",
          "text": [
            "Key: dict_keys(['name', 'address'])\n"
          ],
          "name": "stdout"
        }
      ]
    },
    {
      "cell_type": "code",
      "metadata": {
        "id": "d2HjLxA8MWqL",
        "colab_type": "code",
        "colab": {}
      },
      "source": [
        ""
      ],
      "execution_count": 0,
      "outputs": []
    }
  ]
}