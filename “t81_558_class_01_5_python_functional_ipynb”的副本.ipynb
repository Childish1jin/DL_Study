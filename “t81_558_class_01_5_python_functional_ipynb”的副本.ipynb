{
  "nbformat": 4,
  "nbformat_minor": 0,
  "metadata": {
    "anaconda-cloud": {},
    "kernelspec": {
      "display_name": "Python 3.6 (tensorflow)",
      "language": "python",
      "name": "rga"
    },
    "language_info": {
      "codemirror_mode": {
        "name": "ipython",
        "version": 3
      },
      "file_extension": ".py",
      "mimetype": "text/x-python",
      "name": "python",
      "nbconvert_exporter": "python",
      "pygments_lexer": "ipython3",
      "version": "3.7.5"
    },
    "colab": {
      "name": "“t81_558_class_01_5_python_functional.ipynb”的副本",
      "provenance": [],
      "include_colab_link": true
    }
  },
  "cells": [
    {
      "cell_type": "markdown",
      "metadata": {
        "id": "view-in-github",
        "colab_type": "text"
      },
      "source": [
        "<a href=\"https://colab.research.google.com/github/Childish1jin/DL_Study/blob/master/%E2%80%9Ct81_558_class_01_5_python_functional_ipynb%E2%80%9D%E7%9A%84%E5%89%AF%E6%9C%AC.ipynb\" target=\"_parent\"><img src=\"https://colab.research.google.com/assets/colab-badge.svg\" alt=\"Open In Colab\"/></a>"
      ]
    },
    {
      "cell_type": "markdown",
      "metadata": {
        "id": "WLz3Nyins-jA",
        "colab_type": "text"
      },
      "source": [
        "<a href=\"https://colab.research.google.com/github/jeffheaton/t81_558_deep_learning/blob/master/t81_558_class_01_5_python_functional.ipynb\" target=\"_parent\"><img src=\"https://colab.research.google.com/assets/colab-badge.svg\" alt=\"Open In Colab\"/></a>"
      ]
    },
    {
      "cell_type": "markdown",
      "metadata": {
        "id": "NRKduDZ-s-jG",
        "colab_type": "text"
      },
      "source": [
        "# T81-558: Applications of Deep Neural Networks\n",
        "**Module 1: Python Preliminaries**\n",
        "* Instructor: [Jeff Heaton](https://sites.wustl.edu/jeffheaton/), McKelvey School of Engineering, [Washington University in St. Louis](https://engineering.wustl.edu/Programs/Pages/default.aspx)\n",
        "* For more information visit the [class website](https://sites.wustl.edu/jeffheaton/t81-558/)."
      ]
    },
    {
      "cell_type": "markdown",
      "metadata": {
        "id": "VoZaj6Tos-jL",
        "colab_type": "text"
      },
      "source": [
        "# Module 1 Material\n",
        "\n",
        "* Part 1.1: Course Overview [[Video]](https://www.youtube.com/watch?v=taxS7a-goNs&list=PLjy4p-07OYzulelvJ5KVaT2pDlxivl_BN) [[Notebook]](t81_558_class_01_1_overview.ipynb)\n",
        "* Part 1.2: Introduction to Python [[Video]](https://www.youtube.com/watch?v=czq5d53vKvo&list=PLjy4p-07OYzulelvJ5KVaT2pDlxivl_BN) [[Notebook]](t81_558_class_01_2_intro_python.ipynb)\n",
        "* Part 1.3: Python Lists, Dictionaries, Sets and JSON [[Video]](https://www.youtube.com/watch?v=kcGx2I5akSs&list=PLjy4p-07OYzulelvJ5KVaT2pDlxivl_BN) [[Notebook]](t81_558_class_01_3_python_collections.ipynb)\n",
        "* Part 1.4: File Handling [[Video]](https://www.youtube.com/watch?v=FSuSLCMgCZc&list=PLjy4p-07OYzulelvJ5KVaT2pDlxivl_BN) [[Notebook]](t81_558_class_01_4_python_files.ipynb)\n",
        "* **Part 1.5: Functions, Lambdas, and Map/Reduce** [[Video]](https://www.youtube.com/watch?v=jQH1ZCSj6Ng&list=PLjy4p-07OYzulelvJ5KVaT2pDlxivl_BN) [[Notebook]](t81_558_class_01_5_python_functional.ipynb)"
      ]
    },
    {
      "cell_type": "markdown",
      "metadata": {
        "id": "Jy5-qg1ts-jO",
        "colab_type": "text"
      },
      "source": [
        "# Google CoLab Instructions\n",
        "\n",
        "The following code ensures that Google CoLab is running the correct version of TensorFlow."
      ]
    },
    {
      "cell_type": "code",
      "metadata": {
        "id": "c7NoBss4s-jS",
        "colab_type": "code",
        "outputId": "2d18ea12-3c18-41c5-9431-d96a3c157900",
        "colab": {}
      },
      "source": [
        "try:\n",
        "    from google.colab import drive\n",
        "    %tensorflow_version 2.x\n",
        "    COLAB = True\n",
        "    print(\"Note: using Google CoLab\")\n",
        "except:\n",
        "    print(\"Note: not using Google CoLab\")\n",
        "    COLAB = False"
      ],
      "execution_count": 0,
      "outputs": [
        {
          "output_type": "stream",
          "text": [
            "Note: not using Google CoLab\n"
          ],
          "name": "stdout"
        }
      ]
    },
    {
      "cell_type": "markdown",
      "metadata": {
        "id": "Hx4JfzP0s-jr",
        "colab_type": "text"
      },
      "source": [
        "# Part 1.5: Functions, Lambdas, and Map/Reduce\n",
        "\n",
        "Functions, **lambdas**, and **map/reduce** can allow you to process your data in advanced ways.  We will introduce these techniques here and expand on them in the next module, which will discuss Pandas.\n",
        "\n",
        "Function parameters can be named or unnamed in Python.  Default values can also be used.  Consider the following function."
      ]
    },
    {
      "cell_type": "code",
      "metadata": {
        "id": "jD9-Lt3Fs-ju",
        "colab_type": "code",
        "outputId": "1d53f904-9a66-4571-d595-d1614ec1ef95",
        "colab": {}
      },
      "source": [
        "def say_hello(speaker, person_to_greet, greeting = \"Hello\"):\n",
        "    print(f'{greeting} {person_to_greet}, this is {speaker}.')\n",
        "    \n",
        "say_hello('Jeff', \"John\")\n",
        "say_hello('Jeff', \"John\", \"Goodbye\")\n",
        "say_hello(speaker='Jeff', person_to_greet=\"John\", greeting = \"Goodbye\")"
      ],
      "execution_count": 0,
      "outputs": [
        {
          "output_type": "stream",
          "text": [
            "Hello John, this is Jeff.\n",
            "Goodbye John, this is Jeff.\n",
            "Goodbye John, this is Jeff.\n"
          ],
          "name": "stdout"
        }
      ]
    },
    {
      "cell_type": "markdown",
      "metadata": {
        "id": "cgJxQHs8s-j-",
        "colab_type": "text"
      },
      "source": [
        "A function is a way to capture code that is commonly executed.  Consider the following function that can be used to trim white space from a string capitalize the first letter."
      ]
    },
    {
      "cell_type": "code",
      "metadata": {
        "id": "_rUrdBCJs-kA",
        "colab_type": "code",
        "colab": {}
      },
      "source": [
        "def process_string(str):\n",
        "    t = str.strip()\n",
        "    return t[0].upper()+t[1:]"
      ],
      "execution_count": 0,
      "outputs": []
    },
    {
      "cell_type": "markdown",
      "metadata": {
        "id": "mGcY4vRfs-kM",
        "colab_type": "text"
      },
      "source": [
        "This function can now be called quite easily."
      ]
    },
    {
      "cell_type": "code",
      "metadata": {
        "id": "3RzMQBlXs-kP",
        "colab_type": "code",
        "outputId": "948628bf-604d-406c-c280-dc815cee9870",
        "colab": {}
      },
      "source": [
        "str = process_string(\"  hello  \")\n",
        "print(f'\"{str}\"')"
      ],
      "execution_count": 0,
      "outputs": [
        {
          "output_type": "stream",
          "text": [
            "\"Hello\"\n"
          ],
          "name": "stdout"
        }
      ]
    },
    {
      "cell_type": "markdown",
      "metadata": {
        "id": "k8ScEepHs-kd",
        "colab_type": "text"
      },
      "source": [
        "Python's **map** is a very useful function that is provided in many different programming languages.  The **map** function takes a **list** and applies a function to each member of the **list** and returns a second **list** that is the same size as the first."
      ]
    },
    {
      "cell_type": "code",
      "metadata": {
        "id": "aN_xOGfGs-kf",
        "colab_type": "code",
        "outputId": "54ee14c0-c4b9-45a8-fae7-577d3889f363",
        "colab": {}
      },
      "source": [
        "l = ['   apple  ', 'pear ', 'orange', 'pine apple  ']\n",
        "list(map(process_string, l))"
      ],
      "execution_count": 0,
      "outputs": [
        {
          "output_type": "execute_result",
          "data": {
            "text/plain": [
              "['Apple', 'Pear', 'Orange', 'Pine apple']"
            ]
          },
          "metadata": {
            "tags": []
          },
          "execution_count": 5
        }
      ]
    },
    {
      "cell_type": "markdown",
      "metadata": {
        "id": "RrEMWreSs-ks",
        "colab_type": "text"
      },
      "source": [
        "### Map\n",
        "The **map** function is very similar to the Python **comprehension** that we previously explored.  The following **comprehension** accomplishes the same task as the previous call to **map**."
      ]
    },
    {
      "cell_type": "code",
      "metadata": {
        "id": "xwDIEdwZs-kt",
        "colab_type": "code",
        "outputId": "2049f7d9-391f-432c-be23-8b57fc802164",
        "colab": {}
      },
      "source": [
        "l = ['   apple  ', 'pear ', 'orange', 'pine apple  ']\n",
        "l2 = [process_string(x) for x in l]\n",
        "print(l2)"
      ],
      "execution_count": 0,
      "outputs": [
        {
          "output_type": "stream",
          "text": [
            "['Apple', 'Pear', 'Orange', 'Pine apple']\n"
          ],
          "name": "stdout"
        }
      ]
    },
    {
      "cell_type": "markdown",
      "metadata": {
        "id": "ox9rpTVIs-k3",
        "colab_type": "text"
      },
      "source": [
        "The choice of using a **map** function or **comprehension** is up to the programmer.  I tend to prefer **map** since it is so common in other programming languages."
      ]
    },
    {
      "cell_type": "markdown",
      "metadata": {
        "id": "mRX4E53Xs-k4",
        "colab_type": "text"
      },
      "source": [
        "### Filter\n",
        "While a **map function** always creates a new **list** of the same size as the original, the **filter** function creates a potentially smaller **list**. "
      ]
    },
    {
      "cell_type": "code",
      "metadata": {
        "id": "vR1zxNR_s-k7",
        "colab_type": "code",
        "outputId": "6240ed36-4dbd-40f6-b170-9b9128b9d48e",
        "colab": {}
      },
      "source": [
        "def greater_than_five(x):\n",
        "    return x>5\n",
        "\n",
        "l = [ 1, 10, 20, 3, -2, 0]\n",
        "l2 = list(filter(greater_than_five, l))\n",
        "print(l2)"
      ],
      "execution_count": 0,
      "outputs": [
        {
          "output_type": "stream",
          "text": [
            "[10, 20]\n"
          ],
          "name": "stdout"
        }
      ]
    },
    {
      "cell_type": "markdown",
      "metadata": {
        "id": "o6NexKMTs-lF",
        "colab_type": "text"
      },
      "source": [
        "### Lambda\n",
        "It might seem somewhat tedious to have to create an entire function just to check to see if a value is greater than 5.  A **lambda** saves you this effort.  A lambda is essentially an unnamed function."
      ]
    },
    {
      "cell_type": "code",
      "metadata": {
        "id": "vAg8H_RTs-lH",
        "colab_type": "code",
        "outputId": "87e8b2b6-64ec-43b0-ccc5-00d3e18be06e",
        "colab": {}
      },
      "source": [
        "l = [ 1, 10, 20, 3, -2, 0]\n",
        "l2 = list(filter(lambda x: x>5, l))\n",
        "print(l2)"
      ],
      "execution_count": 0,
      "outputs": [
        {
          "output_type": "stream",
          "text": [
            "[10, 20]\n"
          ],
          "name": "stdout"
        }
      ]
    },
    {
      "cell_type": "markdown",
      "metadata": {
        "id": "XfYd3_MKs-lT",
        "colab_type": "text"
      },
      "source": [
        "### Reduce\n",
        "\n",
        "Finally, we will make use of **reduce**.  Like **filter** and **map** the **reduce** function also works on a **list**.  However, the result of the **reduce** is a single value.  Consider if you wanted to sum the **values** of a **list**.  The sum is implemented by a **lambda**."
      ]
    },
    {
      "cell_type": "markdown",
      "metadata": {
        "id": "t7rIGzT83J-g",
        "colab_type": "text"
      },
      "source": [
        "[Python reduce() 函数](https://www.runoob.com/python/python-func-reduce.html) \n",
        "\n",
        "\n",
        "reduce() 函数会对参数序列中元素进行累积。\n",
        "\n",
        "函数将一个数据集合（链表，元组等）中的所有数据进行下列操作：用传给 reduce 中的函数 function（有两个参数）先对集合中的第 1、2 个元素进行操作，得到的结果再与第三个数据用 function 函数运算，最后得到一个结果。"
      ]
    },
    {
      "cell_type": "code",
      "metadata": {
        "id": "tFyebg0_s-lV",
        "colab_type": "code",
        "outputId": "1ea064d2-bfd6-4f47-c031-57add54717fd",
        "colab": {
          "base_uri": "https://localhost:8080/",
          "height": 35
        }
      },
      "source": [
        "from functools import reduce\n",
        "\n",
        "l = [ 1, 10, 20, 3, -2, 0]\n",
        "result = reduce(lambda x,y: x+y,l)\n",
        "print(result)"
      ],
      "execution_count": 0,
      "outputs": [
        {
          "output_type": "stream",
          "text": [
            "32\n"
          ],
          "name": "stdout"
        }
      ]
    },
    {
      "cell_type": "code",
      "metadata": {
        "id": "n-TC7jnPy2xi",
        "colab_type": "code",
        "colab": {}
      },
      "source": [
        "from functools import reduce"
      ],
      "execution_count": 0,
      "outputs": []
    },
    {
      "cell_type": "code",
      "metadata": {
        "id": "SAanZxs7y9uO",
        "colab_type": "code",
        "outputId": "2da760d1-de87-4e88-81b0-b296a37e65e5",
        "colab": {
          "base_uri": "https://localhost:8080/",
          "height": 35
        }
      },
      "source": [
        "I = [1,2,3,4,5]\n",
        "result = reduce(lambda x,y: x+y,I)\n",
        "print(result)"
      ],
      "execution_count": 0,
      "outputs": [
        {
          "output_type": "stream",
          "text": [
            "15\n"
          ],
          "name": "stdout"
        }
      ]
    },
    {
      "cell_type": "code",
      "metadata": {
        "id": "ThbypObYzW1m",
        "colab_type": "code",
        "colab": {}
      },
      "source": [
        "from functools import reduce \n",
        "\n",
        "numbers = [1,2,3,4,5,6]\n",
        "\n",
        "odd_numbers = filter(lambda x : x %2 ==1, numbers)\n"
      ],
      "execution_count": 0,
      "outputs": []
    },
    {
      "cell_type": "code",
      "metadata": {
        "id": "ChP6fZnv2fkE",
        "colab_type": "code",
        "colab": {}
      },
      "source": [
        "square_odd_numbers = map(lambda x : x * x, odd_numbers)"
      ],
      "execution_count": 0,
      "outputs": []
    },
    {
      "cell_type": "code",
      "metadata": {
        "id": "Fuc4ErlS1YeH",
        "colab_type": "code",
        "colab": {}
      },
      "source": [
        "value = reduce(lambda x,y: x+y,square_odd_numbers)"
      ],
      "execution_count": 0,
      "outputs": []
    },
    {
      "cell_type": "code",
      "metadata": {
        "id": "Nfef-B6f108b",
        "colab_type": "code",
        "outputId": "946d1c45-76ba-4b92-b602-283723973625",
        "colab": {
          "base_uri": "https://localhost:8080/",
          "height": 35
        }
      },
      "source": [
        "print(value)"
      ],
      "execution_count": 0,
      "outputs": [
        {
          "output_type": "stream",
          "text": [
            "35\n"
          ],
          "name": "stdout"
        }
      ]
    },
    {
      "cell_type": "code",
      "metadata": {
        "id": "rP_ppAaX14jx",
        "colab_type": "code",
        "colab": {}
      },
      "source": [
        "from functools import reduce\n",
        "numbers = [1,2,3,4,5,6]\n",
        "odd_numbers = filter(lambda n: n % 2 == 1, numbers)\n",
        "squared_odd_numbers = map(lambda n: n * n, odd_numbers)\n",
        "total = reduce(lambda acc, n: acc + n, squared_odd_numbers)"
      ],
      "execution_count": 0,
      "outputs": []
    },
    {
      "cell_type": "code",
      "metadata": {
        "id": "MgkgzJDA3Ct4",
        "colab_type": "code",
        "outputId": "baaf25cc-4ce3-4474-8fcb-fefe8a73f922",
        "colab": {
          "base_uri": "https://localhost:8080/",
          "height": 35
        }
      },
      "source": [
        "print(total)"
      ],
      "execution_count": 0,
      "outputs": [
        {
          "output_type": "stream",
          "text": [
            "35\n"
          ],
          "name": "stdout"
        }
      ]
    },
    {
      "cell_type": "code",
      "metadata": {
        "id": "UwTlO6DU3D6N",
        "colab_type": "code",
        "colab": {}
      },
      "source": [
        ""
      ],
      "execution_count": 0,
      "outputs": []
    }
  ]
}