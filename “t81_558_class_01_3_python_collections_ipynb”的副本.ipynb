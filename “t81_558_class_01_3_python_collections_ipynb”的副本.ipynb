{
  "nbformat": 4,
  "nbformat_minor": 0,
  "metadata": {
    "anaconda-cloud": {},
    "kernelspec": {
      "display_name": "Python 3.6 (tensorflow)",
      "language": "python",
      "name": "rga"
    },
    "language_info": {
      "codemirror_mode": {
        "name": "ipython",
        "version": 3
      },
      "file_extension": ".py",
      "mimetype": "text/x-python",
      "name": "python",
      "nbconvert_exporter": "python",
      "pygments_lexer": "ipython3",
      "version": "3.7.5"
    },
    "colab": {
      "name": "“t81_558_class_01_3_python_collections.ipynb”的副本",
      "provenance": [],
      "collapsed_sections": [],
      "include_colab_link": true
    }
  },
  "cells": [
    {
      "cell_type": "markdown",
      "metadata": {
        "id": "view-in-github",
        "colab_type": "text"
      },
      "source": [
        "<a href=\"https://colab.research.google.com/github/Childish1jin/DL_Study/blob/master/%E2%80%9Ct81_558_class_01_3_python_collections_ipynb%E2%80%9D%E7%9A%84%E5%89%AF%E6%9C%AC.ipynb\" target=\"_parent\"><img src=\"https://colab.research.google.com/assets/colab-badge.svg\" alt=\"Open In Colab\"/></a>"
      ]
    },
    {
      "cell_type": "markdown",
      "metadata": {
        "id": "VmpUGCATrrCb",
        "colab_type": "text"
      },
      "source": [
        "<a href=\"https://colab.research.google.com/github/jeffheaton/t81_558_deep_learning/blob/master/t81_558_class_01_3_python_collections.ipynb\" target=\"_parent\"><img src=\"https://colab.research.google.com/assets/colab-badge.svg\" alt=\"Open In Colab\"/></a>"
      ]
    },
    {
      "cell_type": "markdown",
      "metadata": {
        "id": "GteGE8NRrrCj",
        "colab_type": "text"
      },
      "source": [
        "# T81-558: Applications of Deep Neural Networks\n",
        "**Module 1: Python Preliminaries**\n",
        "* Instructor: [Jeff Heaton](https://sites.wustl.edu/jeffheaton/), McKelvey School of Engineering, [Washington University in St. Louis](https://engineering.wustl.edu/Programs/Pages/default.aspx)\n",
        "* For more information visit the [class website](https://sites.wustl.edu/jeffheaton/t81-558/)."
      ]
    },
    {
      "cell_type": "markdown",
      "metadata": {
        "id": "eDCPygigrrCr",
        "colab_type": "text"
      },
      "source": [
        "# Module 1 Material\n",
        "\n",
        "* Part 1.1: Course Overview [[Video]](https://www.youtube.com/watch?v=taxS7a-goNs&list=PLjy4p-07OYzulelvJ5KVaT2pDlxivl_BN) [[Notebook]](t81_558_class_01_1_overview.ipynb)\n",
        "* Part 1.2: Introduction to Python [[Video]](https://www.youtube.com/watch?v=czq5d53vKvo&list=PLjy4p-07OYzulelvJ5KVaT2pDlxivl_BN) [[Notebook]](t81_558_class_01_2_intro_python.ipynb)\n",
        "* **Part 1.3: Python Lists, Dictionaries, Sets and JSON** [[Video]](https://www.youtube.com/watch?v=kcGx2I5akSs&list=PLjy4p-07OYzulelvJ5KVaT2pDlxivl_BN) [[Notebook]](t81_558_class_01_3_python_collections.ipynb)\n",
        "* Part 1.4: File Handling [[Video]](https://www.youtube.com/watch?v=FSuSLCMgCZc&list=PLjy4p-07OYzulelvJ5KVaT2pDlxivl_BN) [[Notebook]](t81_558_class_01_4_python_files.ipynb)\n",
        "* Part 1.5: Functions, Lambdas, and Map/Reduce [[Video]](https://www.youtube.com/watch?v=jQH1ZCSj6Ng&list=PLjy4p-07OYzulelvJ5KVaT2pDlxivl_BN) [[Notebook]](t81_558_class_01_5_python_functional.ipynb)"
      ]
    },
    {
      "cell_type": "markdown",
      "metadata": {
        "id": "4hJi96lHrrCx",
        "colab_type": "text"
      },
      "source": [
        "# Google CoLab Instructions\n",
        "\n",
        "The following code ensures that Google CoLab is running the correct version of TensorFlow."
      ]
    },
    {
      "cell_type": "code",
      "metadata": {
        "id": "ixZCPt9grrC3",
        "colab_type": "code",
        "outputId": "07f03e2a-e1c3-4597-c741-49f7b898a202",
        "colab": {}
      },
      "source": [
        "try:\n",
        "    from google.colab import drive\n",
        "    %tensorflow_version 2.x\n",
        "    COLAB = True\n",
        "    print(\"Note: using Google CoLab\")\n",
        "    \n",
        "except:\n",
        "    print(\"Note: not using Google CoLab\")\n",
        "    COLAB = False"
      ],
      "execution_count": 0,
      "outputs": [
        {
          "output_type": "stream",
          "text": [
            "Note: not using Google CoLab\n"
          ],
          "name": "stdout"
        }
      ]
    },
    {
      "cell_type": "markdown",
      "metadata": {
        "id": "Sz_C-1JirrDX",
        "colab_type": "text"
      },
      "source": [
        "# Part 1.3: Python Lists, Dictionaries, Sets and JSON\n",
        "\n",
        "Like most modern programming languages, Python includes Lists, Sets, Dictionaries, and other data structures as built-in types.  The syntax appearance of both of these is similar to JSON. Python and JSON compatibility is discussed later in this module.  This course will focus primarily on Lists, Sets, and Dictionaries.  It is essential to understand the differences between these three fundamental collection types.\n",
        "\n",
        "* **Dictionary** - A dictionary is a mutable unordered collection that Python indexes with name and value pairs.\n",
        "* **List** - A list is a mutable ordered collection that allows duplicate elements.\n",
        "* **Set** - A set is a mutable unordered collection with no duplicate elements.\n",
        "* **Tuple** - A tuple is an immutable ordered collection that allows duplicate elements.\n",
        "\n",
        "Most Python collections are mutable, which means that the program can add and remove elements after definition.  An immutable collection cannot add or remove items after definition.  It is also essential to understand that an ordered collection means that items maintain their order as the program adds them to a collection.  This order might not be any specific ordering, such as alphabetic or numeric.\n",
        "\n",
        "Lists and tuples are very similar in Python and are often confused. The significant difference is that a list is mutable, but a tuple isn’t. So, we include a list when we want to contain similar items, and include a tuple when we know what information goes into it ahead of time.\n",
        "\n",
        "Many programming languages contain a data collection called an array.  The array type is noticeably absent in Python.  Generally, the programmer will use a list in place of an array in Python.  Arrays in most programming languages were fixed-length, requiring the program to know the maximum number of elements needed ahead of time.  This restriction leads to the infamous array-overrun bugs and security issues.  The Python list is much more flexible in that the program can dynamically change the size of a list.\n",
        "\n",
        "The next sections will look at each of these collection types in more detail.\n",
        "\n",
        "### Lists and Tuples\n",
        "\n",
        "For a Python program, lists and tuples are very similar.  It is possible to get by as a programmer using only lists and ignoring tuples.  Both lists and tuples hold an ordered collection of items.\n",
        "\n",
        "The primary difference that you will see syntactically is that a list is enclosed by square braces [] and a list is enclosed by parenthesis ().  The following code defines both list and tuple."
      ]
    },
    {
      "cell_type": "code",
      "metadata": {
        "id": "38yLH-kArrDc",
        "colab_type": "code",
        "outputId": "97387a37-46f9-42e8-c2aa-0e1fee9765e7",
        "colab": {}
      },
      "source": [
        "l = ['a', 'b', 'c', 'd']\n",
        "t = ('a', 'b', 'c', 'd')\n",
        "\n",
        "print(l)\n",
        "print(t)"
      ],
      "execution_count": 0,
      "outputs": [
        {
          "output_type": "stream",
          "text": [
            "['a', 'b', 'c', 'd']\n",
            "('a', 'b', 'c', 'd')\n"
          ],
          "name": "stdout"
        }
      ]
    },
    {
      "cell_type": "markdown",
      "metadata": {
        "id": "5mgmhmlBrrDq",
        "colab_type": "text"
      },
      "source": [
        "The primary difference that you will see programmatically is that a list is mutable, which means the program can change it.  A tuple is immutable, which means the program cannot change it.  The following code demonstrates that the program can change a list. This code also illustrates that Python indexes lists starting at element 0.  Accessing element one modifies the second element in the collection. One advantage of tuples over lists is that tuples are generally slightly faster to iterate over than lists. One advantage of tuples over lists is that tuples are generally slightly faster to iterate over lists."
      ]
    },
    {
      "cell_type": "code",
      "metadata": {
        "id": "tDfxrAiurrDu",
        "colab_type": "code",
        "outputId": "7661df51-0887-43f5-c723-efaf1b714c32",
        "colab": {}
      },
      "source": [
        "l[1] = 'changed'\n",
        "#t[1] = 'changed' # This would result in an error\n",
        "\n",
        "print(l)"
      ],
      "execution_count": 0,
      "outputs": [
        {
          "output_type": "stream",
          "text": [
            "['a', 'changed', 'c', 'd']\n"
          ],
          "name": "stdout"
        }
      ]
    },
    {
      "cell_type": "markdown",
      "metadata": {
        "id": "F9gZCbyGrrD-",
        "colab_type": "text"
      },
      "source": [
        "Like many languages, Python has a for-each statement.  This statement allows you to loop over every element in a collection, such as a list or a tuple."
      ]
    },
    {
      "cell_type": "code",
      "metadata": {
        "id": "p--ryMD2rrED",
        "colab_type": "code",
        "outputId": "0c3c41e2-01b1-443b-b148-944339615856",
        "colab": {}
      },
      "source": [
        "# Iterate over a collection.\n",
        "for s in l:\n",
        "    print(s)"
      ],
      "execution_count": 0,
      "outputs": [
        {
          "output_type": "stream",
          "text": [
            "a\n",
            "changed\n",
            "c\n",
            "d\n"
          ],
          "name": "stdout"
        }
      ]
    },
    {
      "cell_type": "markdown",
      "metadata": {
        "id": "Lm_0GUCzrrES",
        "colab_type": "text"
      },
      "source": [
        "The **enumerate** function is useful for enumerating over a collection and having access to the index of the element that we are currently on."
      ]
    },
    {
      "cell_type": "code",
      "metadata": {
        "id": "NVPe4KWarrEW",
        "colab_type": "code",
        "outputId": "9676fce9-e7c1-4af1-e566-d1a724686338",
        "colab": {}
      },
      "source": [
        "# Iterate over a collection, and know where your index.  (Python is zero-based!)\n",
        "for i,l in enumerate(l):\n",
        "    print(f\"{i}:{l}\")"
      ],
      "execution_count": 0,
      "outputs": [
        {
          "output_type": "stream",
          "text": [
            "0:a\n",
            "1:changed\n",
            "2:c\n",
            "3:d\n"
          ],
          "name": "stdout"
        }
      ]
    },
    {
      "cell_type": "code",
      "metadata": {
        "id": "2btAkC5Xr1bk",
        "colab_type": "code",
        "outputId": "bc8fa44f-cc04-454a-fa9f-e6dc2ea1504f",
        "colab": {
          "base_uri": "https://localhost:8080/",
          "height": 35
        }
      },
      "source": [
        "a = set()\n",
        "a.add('a')\n",
        "a.add('b')\n",
        "print(a)"
      ],
      "execution_count": 0,
      "outputs": [
        {
          "output_type": "stream",
          "text": [
            "{'b', 'a'}\n"
          ],
          "name": "stdout"
        }
      ]
    },
    {
      "cell_type": "code",
      "metadata": {
        "id": "07tmxWbmsHkm",
        "colab_type": "code",
        "outputId": "fc698d7e-5d68-4fa9-b3fc-0fe1167d5db9",
        "colab": {
          "base_uri": "https://localhost:8080/",
          "height": 54
        }
      },
      "source": [
        "for i,j in enumerate(a):\n",
        "  print(i,j)"
      ],
      "execution_count": 0,
      "outputs": [
        {
          "output_type": "stream",
          "text": [
            "0 b\n",
            "1 a\n"
          ],
          "name": "stdout"
        }
      ]
    },
    {
      "cell_type": "code",
      "metadata": {
        "id": "t_z5_b_UsgHi",
        "colab_type": "code",
        "colab": {}
      },
      "source": [
        ""
      ],
      "execution_count": 0,
      "outputs": []
    },
    {
      "cell_type": "code",
      "metadata": {
        "id": "L3rNgORKskFr",
        "colab_type": "code",
        "colab": {}
      },
      "source": [
        ""
      ],
      "execution_count": 0,
      "outputs": []
    },
    {
      "cell_type": "code",
      "metadata": {
        "id": "-thGFtwRsg73",
        "colab_type": "code",
        "colab": {}
      },
      "source": [
        ""
      ],
      "execution_count": 0,
      "outputs": []
    },
    {
      "cell_type": "code",
      "metadata": {
        "id": "cilcNQXpsQe8",
        "colab_type": "code",
        "colab": {}
      },
      "source": [
        ""
      ],
      "execution_count": 0,
      "outputs": []
    },
    {
      "cell_type": "markdown",
      "metadata": {
        "id": "aJh9hb0ErrEj",
        "colab_type": "text"
      },
      "source": [
        "A **list** can have multiple objects added to it, such as strings.  Duplicate values are allowed.  **Tuples** do not allow the program to add additional objects after definition."
      ]
    },
    {
      "cell_type": "code",
      "metadata": {
        "id": "ht761FtBrrEo",
        "colab_type": "code",
        "outputId": "7415269d-dc68-4031-826e-c3f6cd28c8b9",
        "colab": {}
      },
      "source": [
        "# Manually add items, lists allow duplicates\n",
        "c = []\n",
        "c.append('a')\n",
        "c.append('b')\n",
        "c.append('c')\n",
        "c.append('c')\n",
        "print(c)"
      ],
      "execution_count": 0,
      "outputs": [
        {
          "output_type": "stream",
          "text": [
            "['a', 'b', 'c', 'c']\n"
          ],
          "name": "stdout"
        }
      ]
    },
    {
      "cell_type": "markdown",
      "metadata": {
        "id": "VCQIFotnrrEz",
        "colab_type": "text"
      },
      "source": [
        "Ordered collections, such as lists and tuples, allow you to access an element by its index number, such as is done in the following code. Unordered collections, such as dictionaries and sets, do not allow the program to access them in this way."
      ]
    },
    {
      "cell_type": "code",
      "metadata": {
        "id": "VMKJvFdTrrE3",
        "colab_type": "code",
        "outputId": "062c391c-1c33-44e2-eae3-cc5e28f37ea5",
        "colab": {}
      },
      "source": [
        "print(c[1])"
      ],
      "execution_count": 0,
      "outputs": [
        {
          "output_type": "stream",
          "text": [
            "b\n"
          ],
          "name": "stdout"
        }
      ]
    },
    {
      "cell_type": "markdown",
      "metadata": {
        "id": "bevYHxqIrrFD",
        "colab_type": "text"
      },
      "source": [
        "A **list** can have multiple objects added to it, such as strings.  Duplicate values are allowed.  Tuples do not allow the program to add additional objects after definition. For the insert function, an index, the programmer must specify an index. These operations are not allowed for tuples because they would result in a change."
      ]
    },
    {
      "cell_type": "code",
      "metadata": {
        "id": "Qla019oMrrFJ",
        "colab_type": "code",
        "outputId": "2518f11d-9eaf-4033-95cd-23f483a14d2e",
        "colab": {}
      },
      "source": [
        "# Insert\n",
        "c = ['a', 'b', 'c']\n",
        "c.insert(0, 'a0')\n",
        "print(c)\n",
        "# Remove\n",
        "c.remove('b')\n",
        "print(c)\n",
        "# Remove at index\n",
        "del c[0]\n",
        "print(c)"
      ],
      "execution_count": 0,
      "outputs": [
        {
          "output_type": "stream",
          "text": [
            "['a0', 'a', 'b', 'c']\n",
            "['a0', 'a', 'c']\n",
            "['a', 'c']\n"
          ],
          "name": "stdout"
        }
      ]
    },
    {
      "cell_type": "markdown",
      "metadata": {
        "id": "aiNSBOUPrrFX",
        "colab_type": "text"
      },
      "source": [
        "### Sets\n",
        "A Python **set** holds an unordered collection of objects, but sets do allow duplicates.  If a program adds a duplicate item to a set, only one copy of each item remains in the collection.  Adding a duplicate item to a set does not result in an error.   Any of the following techniques will define a set."
      ]
    },
    {
      "cell_type": "code",
      "metadata": {
        "id": "573n-jY4rrFa",
        "colab_type": "code",
        "outputId": "8812dd30-e983-4e3f-ead8-c9da2f431f23",
        "colab": {}
      },
      "source": [
        "s = set()\n",
        "s = { 'a', 'b', 'c'}\n",
        "s = set(['a', 'b', 'c'])\n",
        "print(s)"
      ],
      "execution_count": 0,
      "outputs": [
        {
          "output_type": "stream",
          "text": [
            "{'c', 'a', 'b'}\n"
          ],
          "name": "stdout"
        }
      ]
    },
    {
      "cell_type": "markdown",
      "metadata": {
        "id": "GKxhE89ArrFo",
        "colab_type": "text"
      },
      "source": [
        "A **list** is always enclosed in square braces [], a **tuple** in parenthesis (), and now we see that the programmer encloses a **set** in curly braces.  Programs can add items to a **set** as they run.  Programs can dynamically add items to a **set** with the **add** function.  It is important to note that the **append** function adds items to lists and tuples, whereas the **add** function adds items to a **set**."
      ]
    },
    {
      "cell_type": "code",
      "metadata": {
        "id": "94AkIdNXrrFs",
        "colab_type": "code",
        "outputId": "80ceeec2-10e7-4846-941c-a4033b1fa650",
        "colab": {}
      },
      "source": [
        "# Manually add items, sets do not allow duplicates\n",
        "# Sets add, lists append.  I find this annoying.\n",
        "c = set()\n",
        "c.add('a')\n",
        "c.add('b')\n",
        "c.add('c')\n",
        "c.add('c')\n",
        "print(c)"
      ],
      "execution_count": 0,
      "outputs": [
        {
          "output_type": "stream",
          "text": [
            "{'c', 'a', 'b'}\n"
          ],
          "name": "stdout"
        }
      ]
    },
    {
      "cell_type": "markdown",
      "metadata": {
        "id": "ZpCKWh-trrF2",
        "colab_type": "text"
      },
      "source": [
        "## Maps/Dictionaries/Hash Tables\n",
        "\n",
        "Many programming languages include the concept of a map, dictionary, or hash table.  These are all very related concepts.  Python provides a dictionary, that is essentially a collection of name-value pairs.  Programs define dictionaries using curly-braces, as seen here."
      ]
    },
    {
      "cell_type": "code",
      "metadata": {
        "id": "oVyfgUI2rrF7",
        "colab_type": "code",
        "outputId": "77142ad7-4daf-4bcb-b84f-4a97935bc1d6",
        "colab": {
          "base_uri": "https://localhost:8080/",
          "height": 90
        }
      },
      "source": [
        "d = {'name': \"Jeff\", 'address':\"123 Main\"}\n",
        "print(d)\n",
        "print(d['name'])\n",
        "\n",
        "if 'name' in d:\n",
        "    print(\"Name is defined\")\n",
        "\n",
        "if 'age' in d:\n",
        "    print(\"age defined\")\n",
        "else:\n",
        "    print(\"age undefined\")"
      ],
      "execution_count": 0,
      "outputs": [
        {
          "output_type": "stream",
          "text": [
            "{'name': 'Jeff', 'address': '123 Main'}\n",
            "Jeff\n",
            "Name is defined\n",
            "age undefined\n"
          ],
          "name": "stdout"
        }
      ]
    },
    {
      "cell_type": "code",
      "metadata": {
        "id": "vjBlbwt-uCqq",
        "colab_type": "code",
        "outputId": "25c178f2-71bc-4079-8cdd-ee432e22e5b1",
        "colab": {
          "base_uri": "https://localhost:8080/",
          "height": 35
        }
      },
      "source": [
        "print(\"网站名：{name}, 地址 {url}\".format(name=\"菜鸟教程\", url=\"www.runoob.com\"))"
      ],
      "execution_count": 0,
      "outputs": [
        {
          "output_type": "stream",
          "text": [
            "keys:dict_keys(['name', 'address'])\n"
          ],
          "name": "stdout"
        }
      ]
    },
    {
      "cell_type": "code",
      "metadata": {
        "id": "N_BvTPw9PWuU",
        "colab_type": "code",
        "outputId": "5db9afda-098f-4444-f90e-84f65de6e79c",
        "colab": {
          "base_uri": "https://localhost:8080/",
          "height": 35
        }
      },
      "source": [
        "d.get('name')"
      ],
      "execution_count": 0,
      "outputs": [
        {
          "output_type": "execute_result",
          "data": {
            "text/plain": [
              "'Jeff'"
            ]
          },
          "metadata": {
            "tags": []
          },
          "execution_count": 12
        }
      ]
    },
    {
      "cell_type": "code",
      "metadata": {
        "id": "aIQ1ksGduORo",
        "colab_type": "code",
        "outputId": "6a951451-d693-4902-d2e1-44ac6c359770",
        "colab": {
          "base_uri": "https://localhost:8080/",
          "height": 35
        }
      },
      "source": [
        "print(f'name:{},site:{}')"
      ],
      "execution_count": 0,
      "outputs": [
        {
          "output_type": "execute_result",
          "data": {
            "text/plain": [
              "dict_values(['Jeff', '123 Main'])"
            ]
          },
          "metadata": {
            "tags": []
          },
          "execution_count": 10
        }
      ]
    },
    {
      "cell_type": "code",
      "metadata": {
        "id": "06lIknR3PZgS",
        "colab_type": "code",
        "outputId": "6eab776f-1dc6-4b5a-83ac-326ab687866a",
        "colab": {
          "base_uri": "https://localhost:8080/",
          "height": 35
        }
      },
      "source": [
        "d.get('unknown_key','default')"
      ],
      "execution_count": 0,
      "outputs": [
        {
          "output_type": "execute_result",
          "data": {
            "text/plain": [
              "'default'"
            ]
          },
          "metadata": {
            "tags": []
          },
          "execution_count": 13
        }
      ]
    },
    {
      "cell_type": "markdown",
      "metadata": {
        "id": "9MskTJC6rrGF",
        "colab_type": "text"
      },
      "source": [
        "Be careful that you do not attempt to access an undefined key, as this will result in an error.  You can check to see if a key is defined, as demonstrated above.  You can also access the directory and provide a default value, as the following code demonstrates."
      ]
    },
    {
      "cell_type": "code",
      "metadata": {
        "id": "ZteTHRDurrGJ",
        "colab_type": "code",
        "outputId": "ff28e84e-c220-4dce-ea2d-0966ede06789",
        "colab": {}
      },
      "source": [
        "d.get('unknown_key', 'default')"
      ],
      "execution_count": 0,
      "outputs": [
        {
          "output_type": "execute_result",
          "data": {
            "text/plain": [
              "'default'"
            ]
          },
          "metadata": {
            "tags": []
          },
          "execution_count": 12
        }
      ]
    },
    {
      "cell_type": "markdown",
      "metadata": {
        "id": "2yvJ8j2JrrGU",
        "colab_type": "text"
      },
      "source": [
        "You can also access the individual keys and values of a dictionary."
      ]
    },
    {
      "cell_type": "code",
      "metadata": {
        "id": "gJ-WnhscrrGW",
        "colab_type": "code",
        "outputId": "0bf1264e-6cd5-4c72-c97c-e058f55346f4",
        "colab": {}
      },
      "source": [
        "d = {'name': \"Jeff\", 'address':\"123 Main\"}\n",
        "# All of the keys\n",
        "print(f\"Key: {d.keys()}\")\n",
        "\n",
        "# All of the values\n",
        "print(f\"Values: {d.values()}\")"
      ],
      "execution_count": 0,
      "outputs": [
        {
          "output_type": "stream",
          "text": [
            "Key: dict_keys(['name', 'address'])\n",
            "Values: dict_values(['Jeff', '123 Main'])\n"
          ],
          "name": "stdout"
        }
      ]
    },
    {
      "cell_type": "markdown",
      "metadata": {
        "id": "8_TJeLwQrrGk",
        "colab_type": "text"
      },
      "source": [
        "Dictionaries and lists can be combined. This syntax is closely related to [JSON](https://en.wikipedia.org/wiki/JSON).  Dictionaries and lists together are a good way to build very complex data structures.  While Python allows quotes (\") and apostrophe (') for strings, JSON only allows double-quotes (\"). We will cover JSON in much greater detail later in this module.\n",
        "\n",
        "The following code shows a hybrid usage of dictionaries and lists.  "
      ]
    },
    {
      "cell_type": "code",
      "metadata": {
        "id": "I23jtzagrrGo",
        "colab_type": "code",
        "outputId": "0adc1d11-f136-42ff-bc11-1915b825428a",
        "colab": {}
      },
      "source": [
        "# Python list & map structures\n",
        "customers = [\n",
        "    {\"name\": \"Jeff & Tracy Heaton\", \"pets\": [\"Wynton\", \"Cricket\", \"Hickory\"]},\n",
        "    {\"name\": \"John Smith\", \"pets\": [\"rover\"]},\n",
        "    {\"name\": \"Jane Doe\"}\n",
        "]\n",
        "\n",
        "print(customers)\n",
        "\n",
        "for customer in customers:\n",
        "    print(f\"{customer['name']}:{customer.get('pets', 'no pets')}\")"
      ],
      "execution_count": 0,
      "outputs": [
        {
          "output_type": "stream",
          "text": [
            "[{'name': 'Jeff & Tracy Heaton', 'pets': ['Wynton', 'Cricket', 'Hickory']}, {'name': 'John Smith', 'pets': ['rover']}, {'name': 'Jane Doe'}]\n",
            "Jeff & Tracy Heaton:['Wynton', 'Cricket', 'Hickory']\n",
            "John Smith:['rover']\n",
            "Jane Doe:no pets\n"
          ],
          "name": "stdout"
        }
      ]
    },
    {
      "cell_type": "code",
      "metadata": {
        "id": "iyRb_MG1RI2q",
        "colab_type": "code",
        "outputId": "22a5a899-224f-4c88-904a-6f82c50e0e5b",
        "colab": {
          "base_uri": "https://localhost:8080/",
          "height": 90
        }
      },
      "source": [
        "# Python list & map structures\n",
        "customers = [\n",
        "    {\"name\": \"Jeff & Tracy Heaton\", \"pets\": [\"Wynton\", \"Cricket\", \"Hickory\"]},\n",
        "    {\"name\": \"John Smith\", \"pets\": [\"rover\"]},\n",
        "    {\"name\": \"Jane Doe\"}\n",
        "]\n",
        "\n",
        "print(customers)\n",
        "\n",
        "for customer in customers:\n",
        "  print(f\"{customer['name']} : {customer.get('pets','no_pets')}\")\n"
      ],
      "execution_count": 0,
      "outputs": [
        {
          "output_type": "stream",
          "text": [
            "[{'name': 'Jeff & Tracy Heaton', 'pets': ['Wynton', 'Cricket', 'Hickory']}, {'name': 'John Smith', 'pets': ['rover']}, {'name': 'Jane Doe'}]\n",
            "Jeff & Tracy Heaton : ['Wynton', 'Cricket', 'Hickory']\n",
            "John Smith : ['rover']\n",
            "Jane Doe : no_pets\n"
          ],
          "name": "stdout"
        }
      ]
    },
    {
      "cell_type": "code",
      "metadata": {
        "id": "cPO1jJRyRMdX",
        "colab_type": "code",
        "outputId": "197d4c89-8abf-4915-8921-34262981f076",
        "colab": {
          "base_uri": "https://localhost:8080/",
          "height": 72
        }
      },
      "source": [
        "for customer in customers:\n",
        "  print(f\"{customer['name'] }: {customer.get('pets','no pets')}\")"
      ],
      "execution_count": 0,
      "outputs": [
        {
          "output_type": "stream",
          "text": [
            "Jeff & Tracy Heaton: ['Wynton', 'Cricket', 'Hickory']\n",
            "John Smith: ['rover']\n",
            "Jane Doe: no pets\n"
          ],
          "name": "stdout"
        }
      ]
    },
    {
      "cell_type": "code",
      "metadata": {
        "id": "Zdlk2oaeTOi8",
        "colab_type": "code",
        "outputId": "79d0558b-8ec4-469b-89d2-2f2a51fd596a",
        "colab": {
          "base_uri": "https://localhost:8080/",
          "height": 35
        }
      },
      "source": [
        "comedian = {'name': 'Eric Idle', 'age': 74}\n",
        "\n",
        "print(f\"The comedian is {comedian['name']}, aged {comedian.get('age')}.\")"
      ],
      "execution_count": 0,
      "outputs": [
        {
          "output_type": "stream",
          "text": [
            "The comedian is Eric Idle, aged 74.\n"
          ],
          "name": "stdout"
        }
      ]
    },
    {
      "cell_type": "markdown",
      "metadata": {
        "id": "H0nJ-kjorrGz",
        "colab_type": "text"
      },
      "source": [
        "The variable **customers** is a list that holds three dictionaries that represent customers.  You can think of these dictionaries as records in a table. The fields in these individual records are the keys of the dictionary.  Here the keys **name** and **pets** are fields. However, the field **pets** holds a list of pet names.  There is no limit to how deep you might choose to nest lists and maps.  It is also possible to nest a map inside of a map or a list inside of another list."
      ]
    },
    {
      "cell_type": "markdown",
      "metadata": {
        "id": "N7Yt1qzwrrG3",
        "colab_type": "text"
      },
      "source": [
        "## More Advanced Lists\n",
        "\n",
        "Several advanced features are available for lists that this section introduces. One such function is **zip**.  Two lists can be combined into a single list by the **zip** command.  The following code demonstrates the **zip** command."
      ]
    },
    {
      "cell_type": "code",
      "metadata": {
        "id": "LP5g9fyurrG5",
        "colab_type": "code",
        "outputId": "ed4b77c9-dd81-419b-b911-1cebeff9c9e2",
        "colab": {}
      },
      "source": [
        "a = [1,2,3,4,5]\n",
        "b = [5,4,3,2,1]\n",
        "\n",
        "print(zip(a,b))"
      ],
      "execution_count": 0,
      "outputs": [
        {
          "output_type": "stream",
          "text": [
            "<zip object at 0x10eb00190>\n"
          ],
          "name": "stdout"
        }
      ]
    },
    {
      "cell_type": "markdown",
      "metadata": {
        "id": "_nXM4MMnrrHK",
        "colab_type": "text"
      },
      "source": [
        "To see the results of the **zip** function, we convert the returned zip object into a list. As you can see, the **zip** function returns a list of tuples.  Each tuple represents a pair of items that the function zipped together.  The order in the two lists was maintained."
      ]
    },
    {
      "cell_type": "code",
      "metadata": {
        "id": "p6oJXUTErrHM",
        "colab_type": "code",
        "outputId": "44da8128-8584-4912-cfb1-0563b18462d3",
        "colab": {}
      },
      "source": [
        "a = [1,2,3,4,5]\n",
        "b = [5,4,3,2,1]\n",
        "\n",
        "print(list(zip(a,b)))"
      ],
      "execution_count": 0,
      "outputs": [
        {
          "output_type": "stream",
          "text": [
            "[(1, 5), (2, 4), (3, 3), (4, 2), (5, 1)]\n"
          ],
          "name": "stdout"
        }
      ]
    },
    {
      "cell_type": "markdown",
      "metadata": {
        "id": "PxsvvnyBrrHY",
        "colab_type": "text"
      },
      "source": [
        "The usual method for using the zip command is inside of a for-loop.  The following code shows how a for-loop can assign a variable to each collection that the program is iterating. "
      ]
    },
    {
      "cell_type": "code",
      "metadata": {
        "id": "5KkiFNf8rrHi",
        "colab_type": "code",
        "outputId": "6770752d-6d73-4723-d0e7-29dd360d50f7",
        "colab": {}
      },
      "source": [
        "a = [1,2,3,4,5]\n",
        "b = [5,4,3,2,1]\n",
        "\n",
        "for x,y in zip(a,b):\n",
        "    print(f'{x} - {y}')"
      ],
      "execution_count": 0,
      "outputs": [
        {
          "output_type": "stream",
          "text": [
            "1 - 5\n",
            "2 - 4\n",
            "3 - 3\n",
            "4 - 2\n",
            "5 - 1\n"
          ],
          "name": "stdout"
        }
      ]
    },
    {
      "cell_type": "markdown",
      "metadata": {
        "id": "ED_OoTlGrrHv",
        "colab_type": "text"
      },
      "source": [
        "Usually, both collections will be of the same length when passed to the zip command.  It is not an error to have collections of different lengths.  As the following code illustrates, the zip command will only process elements up to the length of the smaller collection."
      ]
    },
    {
      "cell_type": "code",
      "metadata": {
        "id": "J7E3ps_DrrHx",
        "colab_type": "code",
        "outputId": "c2bc431e-338b-4635-a88d-56bfe41726d9",
        "colab": {}
      },
      "source": [
        "a = [1,2,3,4,5]\n",
        "b = [5,4,3]\n",
        "\n",
        "print(list(zip(a,b)))"
      ],
      "execution_count": 0,
      "outputs": [
        {
          "output_type": "stream",
          "text": [
            "[(1, 5), (2, 4), (3, 3)]\n"
          ],
          "name": "stdout"
        }
      ]
    },
    {
      "cell_type": "markdown",
      "metadata": {
        "id": "Uf6wW_WyrrH4",
        "colab_type": "text"
      },
      "source": [
        "Sometimes you may wish to know the current numeric index when a for-loop is iterating through an ordered collection.  Use the **enumerate** command to track the index location for a collection element.  Because the **enumerate** command deals with numeric indexes of the collection, the zip command will assign arbitrary indexes to elements from unordered collections.\n",
        "\n",
        "Consider how you might construct a Python program to change every element greater than 5 to the value of 5.  The following program performs this transformation.  The enumerate command allows the loop to know which element index it is currently on, thus allowing the program to be able to change the value of the current element of the collection. "
      ]
    },
    {
      "cell_type": "code",
      "metadata": {
        "id": "iY4vuwc3rrH6",
        "colab_type": "code",
        "outputId": "99696f53-1e91-4be7-9fc5-6d829cb35a8a",
        "colab": {}
      },
      "source": [
        "a = [2, 10, 3, 11, 10, 3, 2, 1]\n",
        "for i, x in enumerate(a):\n",
        "    if x>5:\n",
        "        a[i] = 5\n",
        "print(a)"
      ],
      "execution_count": 0,
      "outputs": [
        {
          "output_type": "stream",
          "text": [
            "[2, 5, 3, 5, 5, 3, 2, 1]\n"
          ],
          "name": "stdout"
        }
      ]
    },
    {
      "cell_type": "code",
      "metadata": {
        "id": "lUs6VEiKV41s",
        "colab_type": "code",
        "outputId": "3d8c27d4-fc9a-4f4f-a9d4-a48ed06b9650",
        "colab": {
          "base_uri": "https://localhost:8080/",
          "height": 35
        }
      },
      "source": [
        "a = [2,10,3,11,10,3,2,1]\n",
        "for i,x in enumerate(a):\n",
        "  if x > 5:\n",
        "    a[i] = 5\n",
        "  else:\n",
        "    a[i] = 10\n",
        "\n",
        "print(a)"
      ],
      "execution_count": 0,
      "outputs": [
        {
          "output_type": "stream",
          "text": [
            "[10, 5, 10, 5, 5, 10, 10, 10]\n"
          ],
          "name": "stdout"
        }
      ]
    },
    {
      "cell_type": "markdown",
      "metadata": {
        "id": "cW4-3dLSrrID",
        "colab_type": "text"
      },
      "source": [
        "The comprehension command can dynamically build up a list.  The comprehension below counts from 0 to 9 and adds each value (multiplied by 10) to a list."
      ]
    },
    {
      "cell_type": "code",
      "metadata": {
        "id": "sTxPYL0IrrIE",
        "colab_type": "code",
        "outputId": "08408f0a-bb99-40e3-e8d2-e6d1059c7cb6",
        "colab": {}
      },
      "source": [
        "lst = [x*10 for x in range(10)]\n",
        "print(lst)"
      ],
      "execution_count": 0,
      "outputs": [
        {
          "output_type": "stream",
          "text": [
            "[0, 10, 20, 30, 40, 50, 60, 70, 80, 90]\n"
          ],
          "name": "stdout"
        }
      ]
    },
    {
      "cell_type": "markdown",
      "metadata": {
        "id": "zcTR9KsQrrIN",
        "colab_type": "text"
      },
      "source": [
        "A dictionary can also be a comprehension.  The general format for this is:  \n",
        "\n",
        "---\n",
        "\n",
        "dict_variable = {key:value for (key,value) in dictonary.items()}\n",
        "\n",
        "A common use for this is to build up an index to symbolic column names."
      ]
    },
    {
      "cell_type": "code",
      "metadata": {
        "id": "15eGr9-zrrIS",
        "colab_type": "code",
        "outputId": "50fcfc5f-f783-4e9f-e415-ac4245eacb6e",
        "colab": {}
      },
      "source": [
        "text = ['col-zero','col-one', 'col-two', 'col-three']\n",
        "lookup = {key:value for (value,key) in enumerate(text)}\n",
        "print(lookup)"
      ],
      "execution_count": 0,
      "outputs": [
        {
          "output_type": "stream",
          "text": [
            "{'col-zero': 0, 'col-one': 1, 'col-two': 2, 'col-three': 3}\n"
          ],
          "name": "stdout"
        }
      ]
    },
    {
      "cell_type": "markdown",
      "metadata": {
        "id": "v1BVKS9ErrId",
        "colab_type": "text"
      },
      "source": [
        "This can be used to easily find the index of a column by name."
      ]
    },
    {
      "cell_type": "code",
      "metadata": {
        "id": "deuUazudrrIg",
        "colab_type": "code",
        "outputId": "98bfc71f-e42d-40a5-851b-3df918dd95e0",
        "colab": {}
      },
      "source": [
        "print(f'The index of \"col-two\" is {lookup[\"col-two\"]}')"
      ],
      "execution_count": 0,
      "outputs": [
        {
          "output_type": "stream",
          "text": [
            "The index of \"col-two\" is 2\n"
          ],
          "name": "stdout"
        }
      ]
    },
    {
      "cell_type": "markdown",
      "metadata": {
        "id": "EdOnVnx8rrIp",
        "colab_type": "text"
      },
      "source": [
        "### An Introduction to JSON\n",
        "\n",
        "Data stored in a CSV file must be flat; that is, it must fit into rows and columns. Most people refer to this type of data as structured or tabular. This data is tabular because the number of columns is the same for every row.  Individual rows may be missing a value for a column; however, these rows still have the same columns.  \n",
        "\n",
        "This sort of data is convenient for machine learning because most models, such as neural networks, also expect incoming data to be of fixed dimensions. Real-world information is not always so tabular.  Consider if the rows represent customers.  These people might have multiple phone numbers and addresses.  How would you describe such data using a fixed number of columns?  It would be useful to have a list of these courses in each row that can be of a variable length for each row, or student.\n",
        "\n",
        "JavaScript Object Notation (JSON) is a standard file format that stores data in a hierarchical format similar to eXtensible Markup Language (XML).  JSON is nothing more than a hierarchy of lists and dictionaries.  Programmers refer to this sort of data as semi-structured data or hierarchical data.  The following is a sample JSON file.\n",
        "\n",
        "```\n",
        "{\n",
        "  \"firstName\": \"John\",\n",
        "  \"lastName\": \"Smith\",\n",
        "  \"isAlive\": true,\n",
        "  \"age\": 27,\n",
        "  \"address\": {\n",
        "    \"streetAddress\": \"21 2nd Street\",\n",
        "    \"city\": \"New York\",\n",
        "    \"state\": \"NY\",\n",
        "    \"postalCode\": \"10021-3100\"\n",
        "  },\n",
        "  \"phoneNumbers\": [\n",
        "    {\n",
        "      \"type\": \"home\",\n",
        "      \"number\": \"212 555-1234\"\n",
        "    },\n",
        "    {\n",
        "      \"type\": \"office\",\n",
        "      \"number\": \"646 555-4567\"\n",
        "    },\n",
        "    {\n",
        "      \"type\": \"mobile\",\n",
        "      \"number\": \"123 456-7890\"\n",
        "    }\n",
        "  ],\n",
        "  \"children\": [],\n",
        "  \"spouse\": null\n",
        "}\n",
        "```\n",
        "\n",
        "The above file may look somewhat like Python code.  You can see curly braces that define dictionaries and square brackets that define lists.  JSON does require there to be a single root element.  A list or dictionary can fulfill this role.  JSON requires double-quotes to enclose strings and names.  Single quotes are not allowed in JSON.\n",
        "\n",
        "JSON files are always legal JavaScript syntax.  JSON is also generally valid as Python code, as demonstrated by the following Python program."
      ]
    },
    {
      "cell_type": "code",
      "metadata": {
        "id": "FEL8UXdZrrIt",
        "colab_type": "code",
        "colab": {}
      },
      "source": [
        "jsonHardCoded = {\n",
        "  \"firstName\": \"John\",\n",
        "  \"lastName\": \"Smith\",\n",
        "  \"isAlive\": True,\n",
        "  \"age\": 27,\n",
        "  \"address\": {\n",
        "    \"streetAddress\": \"21 2nd Street\",\n",
        "    \"city\": \"New York\",\n",
        "    \"state\": \"NY\",\n",
        "    \"postalCode\": \"10021-3100\"\n",
        "  },\n",
        "  \"phoneNumbers\": [\n",
        "    {\n",
        "      \"type\": \"home\",\n",
        "      \"number\": \"212 555-1234\"\n",
        "    },\n",
        "    {\n",
        "      \"type\": \"office\",\n",
        "      \"number\": \"646 555-4567\"\n",
        "    },\n",
        "    {\n",
        "      \"type\": \"mobile\",\n",
        "      \"number\": \"123 456-7890\"\n",
        "    }\n",
        "  ],\n",
        "  \"children\": [],\n",
        "  \"spouse\": None\n",
        "}"
      ],
      "execution_count": 0,
      "outputs": []
    },
    {
      "cell_type": "markdown",
      "metadata": {
        "id": "rVAu0aj3rrI0",
        "colab_type": "text"
      },
      "source": [
        "Generally, it is better to read JSON from files, strings, or the Internet than hard coding, as demonstrated here.  However, for internal data structures, sometimes such hard-coding can be useful.\n",
        "\n",
        "Python contains support for JSON.  When a Python program loads a JSON  the root list or dictionary is returned, as demonstrated by the following code."
      ]
    },
    {
      "cell_type": "code",
      "metadata": {
        "id": "97ZC3Sm5rrI3",
        "colab_type": "code",
        "outputId": "10e4d135-fe5c-48e8-e01f-b6539ce05b06",
        "colab": {}
      },
      "source": [
        "import json\n",
        "\n",
        "json_string = '{\"first\":\"Jeff\",\"last\":\"Heaton\"}'\n",
        "obj = json.loads(json_string)\n",
        "print(f\"First name: {obj['first']}\")\n",
        "print(f\"Last name: {obj['last']}\")"
      ],
      "execution_count": 0,
      "outputs": [
        {
          "output_type": "stream",
          "text": [
            "First name: Jeff\n",
            "Last name: Heaton\n"
          ],
          "name": "stdout"
        }
      ]
    },
    {
      "cell_type": "markdown",
      "metadata": {
        "id": "XAZAFTk4rrI-",
        "colab_type": "text"
      },
      "source": [
        "Python programs can also load JSON from a file or URL."
      ]
    },
    {
      "cell_type": "code",
      "metadata": {
        "id": "b1kEGuBRrrJA",
        "colab_type": "code",
        "outputId": "021ce853-801d-47b7-ac43-08c8c6e042e8",
        "colab": {}
      },
      "source": [
        "import requests\n",
        "\n",
        "r = requests.get(\"https://raw.githubusercontent.com/jeffheaton/t81_558_deep_learning/master/person.json\")\n",
        "print(r.json())"
      ],
      "execution_count": 0,
      "outputs": [
        {
          "output_type": "stream",
          "text": [
            "{'firstName': 'John', 'lastName': 'Smith', 'isAlive': True, 'age': 27, 'address': {'streetAddress': '21 2nd Street', 'city': 'New York', 'state': 'NY', 'postalCode': '10021-3100'}, 'phoneNumbers': [{'type': 'home', 'number': '212 555-1234'}, {'type': 'office', 'number': '646 555-4567'}, {'type': 'mobile', 'number': '123 456-7890'}], 'children': [], 'spouse': None}\n"
          ],
          "name": "stdout"
        }
      ]
    },
    {
      "cell_type": "markdown",
      "metadata": {
        "id": "mpEP9RkNrrJH",
        "colab_type": "text"
      },
      "source": [
        "Python programs can easily generate JSON strings from Python objects of dictionaries and lists."
      ]
    },
    {
      "cell_type": "code",
      "metadata": {
        "id": "ZZjD31hkrrJK",
        "colab_type": "code",
        "outputId": "b74be2c3-0794-4236-ea60-c6821d80f004",
        "colab": {}
      },
      "source": [
        "python_obj = {\"first\":\"Jeff\",\"last\":\"Heaton\"}\n",
        "print(json.dumps(python_obj))"
      ],
      "execution_count": 0,
      "outputs": [
        {
          "output_type": "stream",
          "text": [
            "{\"first\": \"Jeff\", \"last\": \"Heaton\"}\n"
          ],
          "name": "stdout"
        }
      ]
    },
    {
      "cell_type": "markdown",
      "metadata": {
        "id": "yQxwB4GmrrJQ",
        "colab_type": "text"
      },
      "source": [
        "A data scientist will generally encounter JSON when they access web services to get their data.  A data scientist might use the techniques presented in this section to convert the semi-structured JSON data into tabular data for the program to use with a model such as a neural network."
      ]
    },
    {
      "cell_type": "code",
      "metadata": {
        "id": "V_xzsi5YrrJT",
        "colab_type": "code",
        "colab": {}
      },
      "source": [
        ""
      ],
      "execution_count": 0,
      "outputs": []
    }
  ]
}